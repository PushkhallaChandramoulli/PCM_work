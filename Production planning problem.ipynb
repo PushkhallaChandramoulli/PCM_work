{
 "cells": [
  {
   "cell_type": "markdown",
   "metadata": {},
   "source": [
    "                                        * PRODUCTION PLANNING PROBLEM  *"
   ]
  },
  {
   "cell_type": "code",
   "execution_count": 158,
   "metadata": {},
   "outputs": [],
   "source": [
    "from pulp import *\n",
    "import pandas as pd\n",
    "import numpy as np\n",
    "import matplotlib.pyplot as plt\n",
    "%matplotlib inline"
   ]
  },
  {
   "cell_type": "code",
   "execution_count": 159,
   "metadata": {},
   "outputs": [],
   "source": [
    "problem= LpProblem(\"Production planning\",LpMinimize)"
   ]
  },
  {
   "cell_type": "code",
   "execution_count": 160,
   "metadata": {},
   "outputs": [],
   "source": [
    "production_type=['Real_time','Over_time']\n",
    "Inventory= ['carry_over']\n",
    "\n",
    "Range=[\"Month 1\",\"Month 2\",\"Month 3\"]\n"
   ]
  },
  {
   "cell_type": "code",
   "execution_count": 161,
   "metadata": {},
   "outputs": [],
   "source": [
    "Month= ['Month 1','Month 2','Month 3','Month 4']"
   ]
  },
  {
   "cell_type": "code",
   "execution_count": 162,
   "metadata": {},
   "outputs": [],
   "source": [
    "demands=[1000,800,1200,900]"
   ]
  },
  {
   "cell_type": "markdown",
   "metadata": {},
   "source": [
    "COST/UNIT for each type of production"
   ]
  },
  {
   "cell_type": "code",
   "execution_count": 163,
   "metadata": {},
   "outputs": [],
   "source": [
    "cost= {\"Real_time\":20,\n",
    "       \"Over_time\":25,\n",
    "       \"carry_over\":3,}\n"
   ]
  },
  {
   "cell_type": "code",
   "execution_count": 164,
   "metadata": {},
   "outputs": [],
   "source": [
    "\n",
    "product_type_var= LpVariable.dicts(\"Production_type\", (Month,production_type ),0)\n",
    "\n",
    "carry_over_var =LpVariable.dicts(\"Inventory\",(Range,Inventory),0)"
   ]
  },
  {
   "cell_type": "code",
   "execution_count": 165,
   "metadata": {},
   "outputs": [
    {
     "data": {
      "text/plain": [
       "{'Month 1': {'carry_over': Inventory_Month_1_carry_over},\n",
       " 'Month 2': {'carry_over': Inventory_Month_2_carry_over},\n",
       " 'Month 3': {'carry_over': Inventory_Month_3_carry_over}}"
      ]
     },
     "execution_count": 165,
     "metadata": {},
     "output_type": "execute_result"
    }
   ],
   "source": [
    "carry_over_var"
   ]
  },
  {
   "cell_type": "code",
   "execution_count": 166,
   "metadata": {},
   "outputs": [
    {
     "data": {
      "text/plain": [
       "{'Month 1': {'Over_time': Production_type_Month_1_Over_time,\n",
       "  'Real_time': Production_type_Month_1_Real_time},\n",
       " 'Month 2': {'Over_time': Production_type_Month_2_Over_time,\n",
       "  'Real_time': Production_type_Month_2_Real_time},\n",
       " 'Month 3': {'Over_time': Production_type_Month_3_Over_time,\n",
       "  'Real_time': Production_type_Month_3_Real_time},\n",
       " 'Month 4': {'Over_time': Production_type_Month_4_Over_time,\n",
       "  'Real_time': Production_type_Month_4_Real_time}}"
      ]
     },
     "execution_count": 166,
     "metadata": {},
     "output_type": "execute_result"
    }
   ],
   "source": [
    "product_type_var"
   ]
  },
  {
   "cell_type": "markdown",
   "metadata": {},
   "source": [
    "OBJECTIVE FUNCTION"
   ]
  },
  {
   "cell_type": "code",
   "execution_count": 168,
   "metadata": {},
   "outputs": [],
   "source": [
    "\n",
    "problem+=lpSum(20*(product_type_var[\"Month 1\"][\"Real_time\"]+product_type_var[\"Month 2\"][\"Real_time\"]+\n",
    "                   product_type_var[\"Month 3\"][\"Real_time\"]+\n",
    "                   product_type_var[\"Month 4\"][\"Real_time\"])+\n",
    "               25*(product_type_var[\"Month 1\"][\"Over_time\"]+product_type_var[\"Month 2\"][\"Over_time\"]+\n",
    "                  product_type_var[\"Month 3\"][\"Over_time\"]+\n",
    "                  product_type_var[\"Month 4\"][\"Over_time\"])+3*(carry_over_var[\"Month 1\"][\"carry_over\"]+\n",
    "                                                             carry_over_var[\"Month 2\"][\"carry_over\"]+\n",
    "                                                             carry_over_var[\"Month 3\"][\"carry_over\"])),\"Total production cost\"\n",
    "    \n",
    " "
   ]
  },
  {
   "cell_type": "code",
   "execution_count": 169,
   "metadata": {},
   "outputs": [
    {
     "data": {
      "text/plain": [
       "Production planning:\n",
       "MINIMIZE\n",
       "3*Inventory_Month_1_carry_over + 3*Inventory_Month_2_carry_over + 3*Inventory_Month_3_carry_over + 25*Production_type_Month_1_Over_time + 20*Production_type_Month_1_Real_time + 25*Production_type_Month_2_Over_time + 20*Production_type_Month_2_Real_time + 25*Production_type_Month_3_Over_time + 20*Production_type_Month_3_Real_time + 25*Production_type_Month_4_Over_time + 20*Production_type_Month_4_Real_time + 0\n",
       "VARIABLES\n",
       "Inventory_Month_1_carry_over Continuous\n",
       "Inventory_Month_2_carry_over Continuous\n",
       "Inventory_Month_3_carry_over Continuous\n",
       "Production_type_Month_1_Over_time Continuous\n",
       "Production_type_Month_1_Real_time Continuous\n",
       "Production_type_Month_2_Over_time Continuous\n",
       "Production_type_Month_2_Real_time Continuous\n",
       "Production_type_Month_3_Over_time Continuous\n",
       "Production_type_Month_3_Real_time Continuous\n",
       "Production_type_Month_4_Over_time Continuous\n",
       "Production_type_Month_4_Real_time Continuous"
      ]
     },
     "execution_count": 169,
     "metadata": {},
     "output_type": "execute_result"
    }
   ],
   "source": [
    "problem"
   ]
  },
  {
   "cell_type": "markdown",
   "metadata": {},
   "source": [
    "DEFINING CONSTRAINTS"
   ]
  },
  {
   "cell_type": "code",
   "execution_count": 170,
   "metadata": {},
   "outputs": [],
   "source": [
    "X1= product_type_var[\"Month 1\"][\"Real_time\"]\n",
    "X2= product_type_var[\"Month 2\"][\"Real_time\"]\n",
    "X3= product_type_var[\"Month 3\"][\"Real_time\"]\n",
    "X4= product_type_var[\"Month 4\"][\"Real_time\"]\n",
    "\n",
    "Y1= product_type_var[\"Month 1\"][\"Over_time\"]\n",
    "Y2= product_type_var[\"Month 2\"][\"Over_time\"] \n",
    "Y3= product_type_var[\"Month 3\"][\"Over_time\"]\n",
    "Y4= product_type_var[\"Month 4\"][\"Over_time\"]\n",
    "\n",
    "I1= carry_over_var[\"Month 1\"][\"carry_over\"]\n",
    "I2= carry_over_var[\"Month 2\"][\"carry_over\"]\n",
    "I3= carry_over_var[\"Month 3\"][\"carry_over\"]\n",
    "\n",
    "\n",
    "problem+= lpSum(X1+ Y1)==1000+I1\n",
    "problem+= lpSum(I1+X2+Y2)==800+I2\n",
    "problem+= lpSum(I2+X3+Y3)==1200+I3\n",
    "problem+= lpSum(I3+X4+Y4)==900\n",
    "\n",
    "\n",
    "\n"
   ]
  },
  {
   "cell_type": "code",
   "execution_count": 171,
   "metadata": {},
   "outputs": [],
   "source": [
    "problem+= lpSum(product_type_var[\"Month 1\"][\"Real_time\"])<=800\n",
    "problem+= lpSum(product_type_var[\"Month 2\"][\"Real_time\"])<=800\n",
    "problem+= lpSum(product_type_var[\"Month 3\"][\"Real_time\"])<=800\n",
    "problem+= lpSum(product_type_var[\"Month 4\"][\"Real_time\"])<=800\n",
    "problem+= lpSum(product_type_var[\"Month 1\"][\"Over_time\"])<=200\n",
    "problem+= lpSum(product_type_var[\"Month 2\"][\"Over_time\"])<=200\n",
    "problem+= lpSum(product_type_var[\"Month 3\"][\"Over_time\"])<=200\n",
    "problem+= lpSum(product_type_var[\"Month 4\"][\"Over_time\"])<=200\n",
    "problem+= lpSum(I1)>=0\n",
    "problem+= lpSum(I2)>=0\n",
    "problem+= lpSum(I3)>=0\n",
    "problem+= lpSum(X1)>=0\n",
    "problem+= lpSum(X2)>=0\n",
    "problem+= lpSum(X3)>=0\n",
    "problem+= lpSum(X4)>=0\n",
    "problem+= lpSum(Y1)>=0\n",
    "problem+= lpSum(Y2)>=0\n",
    "problem+= lpSum(Y3)>=0\n",
    "problem+= lpSum(Y4)>=0"
   ]
  },
  {
   "cell_type": "code",
   "execution_count": 172,
   "metadata": {},
   "outputs": [
    {
     "data": {
      "text/plain": [
       "Production planning:\n",
       "MINIMIZE\n",
       "3*Inventory_Month_1_carry_over + 3*Inventory_Month_2_carry_over + 3*Inventory_Month_3_carry_over + 25*Production_type_Month_1_Over_time + 20*Production_type_Month_1_Real_time + 25*Production_type_Month_2_Over_time + 20*Production_type_Month_2_Real_time + 25*Production_type_Month_3_Over_time + 20*Production_type_Month_3_Real_time + 25*Production_type_Month_4_Over_time + 20*Production_type_Month_4_Real_time + 0\n",
       "SUBJECT TO\n",
       "_C1: - Inventory_Month_1_carry_over + Production_type_Month_1_Over_time\n",
       " + Production_type_Month_1_Real_time = 1000\n",
       "\n",
       "_C2: Inventory_Month_1_carry_over - Inventory_Month_2_carry_over\n",
       " + Production_type_Month_2_Over_time + Production_type_Month_2_Real_time = 800\n",
       "\n",
       "_C3: Inventory_Month_2_carry_over - Inventory_Month_3_carry_over\n",
       " + Production_type_Month_3_Over_time + Production_type_Month_3_Real_time\n",
       " = 1200\n",
       "\n",
       "_C4: Inventory_Month_3_carry_over + Production_type_Month_4_Over_time\n",
       " + Production_type_Month_4_Real_time = 900\n",
       "\n",
       "_C5: Production_type_Month_1_Real_time <= 800\n",
       "\n",
       "_C6: Production_type_Month_2_Real_time <= 800\n",
       "\n",
       "_C7: Production_type_Month_3_Real_time <= 800\n",
       "\n",
       "_C8: Production_type_Month_4_Real_time <= 800\n",
       "\n",
       "_C9: Production_type_Month_1_Over_time <= 200\n",
       "\n",
       "_C10: Production_type_Month_2_Over_time <= 200\n",
       "\n",
       "_C11: Production_type_Month_3_Over_time <= 200\n",
       "\n",
       "_C12: Production_type_Month_4_Over_time <= 200\n",
       "\n",
       "_C13: Inventory_Month_1_carry_over >= 0\n",
       "\n",
       "_C14: Inventory_Month_2_carry_over >= 0\n",
       "\n",
       "_C15: Inventory_Month_3_carry_over >= 0\n",
       "\n",
       "_C16: Production_type_Month_1_Real_time >= 0\n",
       "\n",
       "_C17: Production_type_Month_2_Real_time >= 0\n",
       "\n",
       "_C18: Production_type_Month_3_Real_time >= 0\n",
       "\n",
       "_C19: Production_type_Month_4_Real_time >= 0\n",
       "\n",
       "_C20: Production_type_Month_1_Over_time >= 0\n",
       "\n",
       "_C21: Production_type_Month_2_Over_time >= 0\n",
       "\n",
       "_C22: Production_type_Month_3_Over_time >= 0\n",
       "\n",
       "_C23: Production_type_Month_4_Over_time >= 0\n",
       "\n",
       "VARIABLES\n",
       "Inventory_Month_1_carry_over Continuous\n",
       "Inventory_Month_2_carry_over Continuous\n",
       "Inventory_Month_3_carry_over Continuous\n",
       "Production_type_Month_1_Over_time Continuous\n",
       "Production_type_Month_1_Real_time Continuous\n",
       "Production_type_Month_2_Over_time Continuous\n",
       "Production_type_Month_2_Real_time Continuous\n",
       "Production_type_Month_3_Over_time Continuous\n",
       "Production_type_Month_3_Real_time Continuous\n",
       "Production_type_Month_4_Over_time Continuous\n",
       "Production_type_Month_4_Real_time Continuous"
      ]
     },
     "execution_count": 172,
     "metadata": {},
     "output_type": "execute_result"
    }
   ],
   "source": [
    "problem"
   ]
  },
  {
   "cell_type": "code",
   "execution_count": 173,
   "metadata": {},
   "outputs": [],
   "source": [
    "problem.writeLP(\"Production_planning.lp\")"
   ]
  },
  {
   "cell_type": "code",
   "execution_count": 174,
   "metadata": {},
   "outputs": [
    {
     "data": {
      "text/plain": [
       "1"
      ]
     },
     "execution_count": 174,
     "metadata": {},
     "output_type": "execute_result"
    }
   ],
   "source": [
    "problem.solve()"
   ]
  },
  {
   "cell_type": "code",
   "execution_count": 175,
   "metadata": {},
   "outputs": [
    {
     "name": "stdout",
     "output_type": "stream",
     "text": [
      "Status: Optimal\n"
     ]
    }
   ],
   "source": [
    "print(\"Status:\", LpStatus[problem.status])"
   ]
  },
  {
   "cell_type": "code",
   "execution_count": 176,
   "metadata": {},
   "outputs": [
    {
     "name": "stdout",
     "output_type": "stream",
     "text": [
      "Inventory_Month_1_carry_over = 0.0\n",
      "Inventory_Month_2_carry_over = 200.0\n",
      "Inventory_Month_3_carry_over = 0.0\n",
      "Production_type_Month_1_Over_time = 200.0\n",
      "Production_type_Month_1_Real_time = 800.0\n",
      "Production_type_Month_2_Over_time = 200.0\n",
      "Production_type_Month_2_Real_time = 800.0\n",
      "Production_type_Month_3_Over_time = 200.0\n",
      "Production_type_Month_3_Real_time = 800.0\n",
      "Production_type_Month_4_Over_time = 100.0\n",
      "Production_type_Month_4_Real_time = 800.0\n"
     ]
    }
   ],
   "source": [
    "for v in problem.variables():\n",
    "    print(v.name, \"=\", v.varValue)"
   ]
  },
  {
   "cell_type": "code",
   "execution_count": 177,
   "metadata": {},
   "outputs": [
    {
     "name": "stdout",
     "output_type": "stream",
     "text": [
      "Total Costs =  82100.0\n"
     ]
    }
   ],
   "source": [
    "print(\"Total Costs = \", value(problem.objective))"
   ]
  }
 ],
 "metadata": {
  "kernelspec": {
   "display_name": "Python 3",
   "language": "python",
   "name": "python3"
  },
  "language_info": {
   "codemirror_mode": {
    "name": "ipython",
    "version": 3
   },
   "file_extension": ".py",
   "mimetype": "text/x-python",
   "name": "python",
   "nbconvert_exporter": "python",
   "pygments_lexer": "ipython3",
   "version": "3.6.4"
  }
 },
 "nbformat": 4,
 "nbformat_minor": 2
}
